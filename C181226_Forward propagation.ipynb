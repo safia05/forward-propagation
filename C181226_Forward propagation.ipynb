{
 "cells": [
  {
   "cell_type": "code",
   "execution_count": 1,
   "id": "a52f5b12",
   "metadata": {},
   "outputs": [],
   "source": [
    "import numpy as np\n",
    "x=np.array([2,3])\n",
    "b=np.array([1,2,3])\n",
    "w=([0.1,0.3,0.2,0.4,0.5,0.6])"
   ]
  },
  {
   "cell_type": "code",
   "execution_count": 2,
   "id": "972341c6",
   "metadata": {},
   "outputs": [],
   "source": [
    "def sigmoid(y): \n",
    "    return 1 / (1 + np.e**-y)"
   ]
  },
  {
   "cell_type": "code",
   "execution_count": 3,
   "id": "b76d8498",
   "metadata": {},
   "outputs": [],
   "source": [
    "n1    = sigmoid(x[0]*w[0] + x[1]*w[2] + b[0])\n",
    "n2    = sigmoid(x[0]*w[1] + x[1]*w[3] + b[1])\n",
    "y_hat = sigmoid(n1*w[4] + n2*w[5]  + b[2])"
   ]
  },
  {
   "cell_type": "code",
   "execution_count": 4,
   "id": "569e2470",
   "metadata": {},
   "outputs": [
    {
     "data": {
      "text/plain": [
       "0.9822932802428371"
      ]
     },
     "execution_count": 4,
     "metadata": {},
     "output_type": "execute_result"
    }
   ],
   "source": [
    "y_hat"
   ]
  },
  {
   "cell_type": "code",
   "execution_count": 5,
   "id": "492a6bd9",
   "metadata": {},
   "outputs": [
    {
     "name": "stdout",
     "output_type": "stream",
     "text": [
      "Loss: 0.020202707317519466\n"
     ]
    }
   ],
   "source": [
    "def crossentropy(y, y_hat):\n",
    "  #code is derived from the piecewise function\n",
    "  if y == 0:\n",
    "    return -np.log(1.0-y_hat)\n",
    "\n",
    "  if y == 1:\n",
    "    return -np.log(y_hat)\n",
    "\n",
    "y = 1 \n",
    "y_hat = 0.98\n",
    "\n",
    "print(f'Loss: {crossentropy(y, y_hat)}')"
   ]
  },
  {
   "cell_type": "code",
   "execution_count": null,
   "id": "76565cdb",
   "metadata": {},
   "outputs": [],
   "source": []
  }
 ],
 "metadata": {
  "kernelspec": {
   "display_name": "Python 3 (ipykernel)",
   "language": "python",
   "name": "python3"
  },
  "language_info": {
   "codemirror_mode": {
    "name": "ipython",
    "version": 3
   },
   "file_extension": ".py",
   "mimetype": "text/x-python",
   "name": "python",
   "nbconvert_exporter": "python",
   "pygments_lexer": "ipython3",
   "version": "3.9.7"
  }
 },
 "nbformat": 4,
 "nbformat_minor": 5
}
